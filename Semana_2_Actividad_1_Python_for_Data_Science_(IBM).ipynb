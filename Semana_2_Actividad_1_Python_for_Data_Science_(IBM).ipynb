{
  "nbformat": 4,
  "nbformat_minor": 0,
  "metadata": {
    "colab": {
      "provenance": [],
      "authorship_tag": "ABX9TyODVXdzS6TzKx3o8YOl4Dav",
      "include_colab_link": true
    },
    "kernelspec": {
      "name": "python3",
      "display_name": "Python 3"
    },
    "language_info": {
      "name": "python"
    }
  },
  "cells": [
    {
      "cell_type": "markdown",
      "metadata": {
        "id": "view-in-github",
        "colab_type": "text"
      },
      "source": [
        "<a href=\"https://colab.research.google.com/github/PosgradoMNA/actividades-de-aprendizaje-RobertoRomeroVielma-A00822314/blob/main/Semana_2_Actividad_1_Python_for_Data_Science_(IBM).ipynb\" target=\"_parent\"><img src=\"https://colab.research.google.com/assets/colab-badge.svg\" alt=\"Open In Colab\"/></a>"
      ]
    },
    {
      "cell_type": "markdown",
      "source": [
        "* Nombre del alumno: Roberto Romero Vielma\n",
        "* Matrícula: A00822314"
      ],
      "metadata": {
        "id": "pdvC9hlJ6Kwp"
      }
    },
    {
      "cell_type": "markdown",
      "source": [
        "# Módulo 4"
      ],
      "metadata": {
        "id": "PDoFt3kF1vXG"
      }
    },
    {
      "cell_type": "markdown",
      "source": [
        "## Reading files with open\n",
        "El archivo es un objecto del cual podemos sacar sus propiedades"
      ],
      "metadata": {
        "id": "x5SeBWT510YB"
      }
    },
    {
      "cell_type": "markdown",
      "source": [
        "**Traemos la raw data para usarla localmente**"
      ],
      "metadata": {
        "id": "AoH4glW4tJg9"
      }
    },
    {
      "cell_type": "code",
      "source": [
        "import urllib.request\n",
        "url=\"https://cf-courses-data.s3.us.cloud-object-storage.appdomain.cloud/IBMDeveloperSkillsNetwork-PY0101EN-SkillsNetwork/labs/Module%204/data/example1.txt\"\n",
        "filename=\"Example1.txt\"\n",
        "urllib.request.urlretrieve(url,filename)"
      ],
      "metadata": {
        "colab": {
          "base_uri": "https://localhost:8080/"
        },
        "id": "5qW8a0Uv3S1X",
        "outputId": "028b8774-9722-4abc-e674-41895a3773e7"
      },
      "execution_count": 1,
      "outputs": [
        {
          "output_type": "execute_result",
          "data": {
            "text/plain": [
              "('Example1.txt', <http.client.HTTPMessage at 0x7f8be7b639d0>)"
            ]
          },
          "metadata": {},
          "execution_count": 1
        }
      ]
    },
    {
      "cell_type": "markdown",
      "source": [
        "* w = write o escribir\n",
        "* r= read o leer\n",
        "* a= append o anexar"
      ],
      "metadata": {
        "id": "XdhD5si53oQE"
      }
    },
    {
      "cell_type": "code",
      "execution_count": 2,
      "metadata": {
        "id": "QoEazPEb0-ZM"
      },
      "outputs": [],
      "source": [
        "File1=open(\"Example1.txt\",\"r\") "
      ]
    },
    {
      "cell_type": "markdown",
      "source": [
        "open es la función, el primer argumento es el nombre y la ruta del archivo, el segundo es el modo (w, r, a)"
      ],
      "metadata": {
        "id": "0lebf9G135Es"
      }
    },
    {
      "cell_type": "code",
      "source": [
        "File1.mode #muestra el modo"
      ],
      "metadata": {
        "colab": {
          "base_uri": "https://localhost:8080/",
          "height": 36
        },
        "id": "KiAZUlcl2Or4",
        "outputId": "f92979a3-0b28-441c-c752-1def27728e67"
      },
      "execution_count": 3,
      "outputs": [
        {
          "output_type": "execute_result",
          "data": {
            "text/plain": [
              "'r'"
            ],
            "application/vnd.google.colaboratory.intrinsic+json": {
              "type": "string"
            }
          },
          "metadata": {},
          "execution_count": 3
        }
      ]
    },
    {
      "cell_type": "code",
      "source": [
        "File1.name #muestra el nombre del archivo"
      ],
      "metadata": {
        "colab": {
          "base_uri": "https://localhost:8080/",
          "height": 36
        },
        "id": "BUPukyZ54p46",
        "outputId": "d8599b09-59e9-406b-fa5f-8376ed245334"
      },
      "execution_count": 4,
      "outputs": [
        {
          "output_type": "execute_result",
          "data": {
            "text/plain": [
              "'Example1.txt'"
            ],
            "application/vnd.google.colaboratory.intrinsic+json": {
              "type": "string"
            }
          },
          "metadata": {},
          "execution_count": 4
        }
      ]
    },
    {
      "cell_type": "markdown",
      "source": [
        "Podemos leer el archivo y lo asignamos a una variable"
      ],
      "metadata": {
        "id": "RIztxfYBsv_q"
      }
    },
    {
      "cell_type": "code",
      "source": [
        "FileContent=File1.read()\n",
        "FileContent"
      ],
      "metadata": {
        "colab": {
          "base_uri": "https://localhost:8080/",
          "height": 36
        },
        "id": "RD6Js8k0saej",
        "outputId": "6b06cf02-2228-4238-f16e-b441276ded86"
      },
      "execution_count": 5,
      "outputs": [
        {
          "output_type": "execute_result",
          "data": {
            "text/plain": [
              "'This is line 1 \\nThis is line 2\\nThis is line 3'"
            ],
            "application/vnd.google.colaboratory.intrinsic+json": {
              "type": "string"
            }
          },
          "metadata": {},
          "execution_count": 5
        }
      ]
    },
    {
      "cell_type": "code",
      "source": [
        "File1.close()"
      ],
      "metadata": {
        "id": "E2P4Toyk4vVC"
      },
      "execution_count": 6,
      "outputs": []
    },
    {
      "cell_type": "markdown",
      "source": [
        "close () es para cerrar el documento, para que no sea tedioso estar cerrando el archivo cada vez, podemos usar una declarar **with** para cerrarlo en automático"
      ],
      "metadata": {
        "id": "qjl4Ma3j5Yu0"
      }
    },
    {
      "cell_type": "code",
      "source": [
        "with open(\"Example1.txt\",\"r\") as File1: #File object =File1\n",
        "\n",
        "  file_stuff=File1.read() #el método read guarda los valores del archivo en la variable file_stuff como un string\n",
        "\n",
        "  print(file_stuff) #antes del True\n",
        "\n",
        "print(File1.closed)\n",
        "print(file_stuff) #Después del True"
      ],
      "metadata": {
        "colab": {
          "base_uri": "https://localhost:8080/"
        },
        "id": "7QdUY-Cc5gGw",
        "outputId": "5369dad1-010e-4cb4-bfcd-4fff710a8dcb"
      },
      "execution_count": 7,
      "outputs": [
        {
          "output_type": "stream",
          "name": "stdout",
          "text": [
            "This is line 1 \n",
            "This is line 2\n",
            "This is line 3\n",
            "True\n",
            "This is line 1 \n",
            "This is line 2\n",
            "This is line 3\n"
          ]
        }
      ]
    },
    {
      "cell_type": "markdown",
      "source": [
        "Podemos imprimir la variable file_stuff para ver su contenido"
      ],
      "metadata": {
        "id": "S5eHHgc5-edh"
      }
    },
    {
      "cell_type": "code",
      "source": [
        "print(file_stuff) "
      ],
      "metadata": {
        "colab": {
          "base_uri": "https://localhost:8080/"
        },
        "id": "a4lgM3W7-OFg",
        "outputId": "fef6e23e-dce4-4526-8f73-e43a7eb7ca79"
      },
      "execution_count": 8,
      "outputs": [
        {
          "output_type": "stream",
          "name": "stdout",
          "text": [
            "This is line 1 \n",
            "This is line 2\n",
            "This is line 3\n"
          ]
        }
      ]
    },
    {
      "cell_type": "code",
      "source": [
        "file_stuff #si solo llamamos la variable obtenemos el raw string"
      ],
      "metadata": {
        "colab": {
          "base_uri": "https://localhost:8080/",
          "height": 36
        },
        "id": "CpQ5Csyr6jGL",
        "outputId": "57a82faa-9077-4f39-b0a7-ad9023a56eb2"
      },
      "execution_count": 9,
      "outputs": [
        {
          "output_type": "execute_result",
          "data": {
            "text/plain": [
              "'This is line 1 \\nThis is line 2\\nThis is line 3'"
            ],
            "application/vnd.google.colaboratory.intrinsic+json": {
              "type": "string"
            }
          },
          "metadata": {},
          "execution_count": 9
        }
      ]
    },
    {
      "cell_type": "markdown",
      "source": [
        "También podemos leer las lineas dentro del archivo"
      ],
      "metadata": {
        "id": "ixzrdXtB-0B9"
      }
    },
    {
      "cell_type": "code",
      "source": [
        "with open(\"Example1.txt\",\"r\") as File1:\n",
        "\n",
        "  file_stuff=File1.readlines() #esto nos muestra todas las lineas\n",
        "  print(file_stuff)"
      ],
      "metadata": {
        "colab": {
          "base_uri": "https://localhost:8080/"
        },
        "id": "NLeBYBVa7Qvj",
        "outputId": "4134d813-ce7d-4dfa-9e15-d2ed17443a61"
      },
      "execution_count": 10,
      "outputs": [
        {
          "output_type": "stream",
          "name": "stdout",
          "text": [
            "['This is line 1 \\n', 'This is line 2\\n', 'This is line 3']\n"
          ]
        }
      ]
    },
    {
      "cell_type": "code",
      "source": [
        "\n",
        "with open(\"Example1.txt\",\"r\") as File1:\n",
        "\n",
        "  file_stuff=File1.readline() #esto nos muestra la primera linea\n",
        "  print(file_stuff)\n",
        "  file_stuff=File1.readline() #esto nos muestra la segunda linea\n",
        "  print(file_stuff)"
      ],
      "metadata": {
        "colab": {
          "base_uri": "https://localhost:8080/"
        },
        "id": "EC9wW7vt_PET",
        "outputId": "b86eb6f7-9eee-4aef-8a1a-ff937a8bf6f6"
      },
      "execution_count": 11,
      "outputs": [
        {
          "output_type": "stream",
          "name": "stdout",
          "text": [
            "This is line 1 \n",
            "\n",
            "This is line 2\n",
            "\n"
          ]
        }
      ]
    },
    {
      "cell_type": "markdown",
      "source": [
        "Podemos mostrar todas las lineas dentro de un loop"
      ],
      "metadata": {
        "id": "CDsXUDIBAjYR"
      }
    },
    {
      "cell_type": "code",
      "source": [
        "with open(\"Example1.txt\",\"r\") as File1:\n",
        "  for line in File1:\n",
        "    print(line)"
      ],
      "metadata": {
        "colab": {
          "base_uri": "https://localhost:8080/"
        },
        "id": "FCvXHabcAOqg",
        "outputId": "e0203880-3297-4a05-a0f7-7a46fa04c536"
      },
      "execution_count": 12,
      "outputs": [
        {
          "output_type": "stream",
          "name": "stdout",
          "text": [
            "This is line 1 \n",
            "\n",
            "This is line 2\n",
            "\n",
            "This is line 3\n"
          ]
        }
      ]
    },
    {
      "cell_type": "markdown",
      "source": [
        "Adicionalmente se puede mostrar solo una parte de cada línea asignandole un valor númerico dentro de readlines"
      ],
      "metadata": {
        "id": "7EgmE2biArXC"
      }
    },
    {
      "cell_type": "code",
      "source": [
        "with open(\"Example1.txt\",\"r\") as File1:\n",
        "\n",
        "  file_stuff=File1.readlines(4)\n",
        "  print(file_stuff)"
      ],
      "metadata": {
        "colab": {
          "base_uri": "https://localhost:8080/"
        },
        "id": "edOu44p3Afx7",
        "outputId": "6700e28d-c12c-4c50-e306-4c0c97dc6710"
      },
      "execution_count": 13,
      "outputs": [
        {
          "output_type": "stream",
          "name": "stdout",
          "text": [
            "['This is line 1 \\n']\n"
          ]
        }
      ]
    },
    {
      "cell_type": "code",
      "source": [
        "with open(\"Example1.txt\",\"r\") as File1:\n",
        "\n",
        "  file_stuff=File1.read(16) #agarra las primeras 16 posiciones\n",
        "  print(file_stuff)\n",
        "  file_stuff=File1.read(5) #agarra las siguientes 5 posiciones\n",
        "  print(file_stuff)\n",
        "  file_stuff=File1.read(9) #agarra las siguientes 9 posiciones\n",
        "  print(file_stuff)"
      ],
      "metadata": {
        "colab": {
          "base_uri": "https://localhost:8080/"
        },
        "id": "6niRygZ0BSo9",
        "outputId": "403f6aeb-baf9-4b83-ca46-bd868103465b"
      },
      "execution_count": 14,
      "outputs": [
        {
          "output_type": "stream",
          "name": "stdout",
          "text": [
            "This is line 1 \n",
            "\n",
            "This \n",
            "is line 2\n"
          ]
        }
      ]
    },
    {
      "cell_type": "markdown",
      "source": [
        "## Writing Files with Open"
      ],
      "metadata": {
        "id": "QT9kal3Gc7Fy"
      }
    },
    {
      "cell_type": "markdown",
      "source": [
        "El método write sirve para escribir datos dentro de un archivo"
      ],
      "metadata": {
        "id": "ArrHrocGdGJ9"
      }
    },
    {
      "cell_type": "markdown",
      "source": [
        "**Creamos un archivo txt de la siguiente manera**"
      ],
      "metadata": {
        "id": "4mQMpjkze2gU"
      }
    },
    {
      "cell_type": "code",
      "source": [
        "File1=open(\"Example2.txt\",\"w\")"
      ],
      "metadata": {
        "id": "fuAer0gffN84"
      },
      "execution_count": 18,
      "outputs": []
    },
    {
      "cell_type": "markdown",
      "source": [
        "Usamos la función open, usamos como primer argumento la ruta, al final de la ruta ponemos el nombre que queremos para el archivo, el segundo argumento es el modo que en este caso es w o write"
      ],
      "metadata": {
        "id": "vPWnKmnofge8"
      }
    },
    {
      "cell_type": "markdown",
      "source": [
        "Para añadir líneas al txt hacemos lo siguiente (sino existe el archivo lo crea):"
      ],
      "metadata": {
        "id": "SOq8CNt4hyAq"
      }
    },
    {
      "cell_type": "code",
      "source": [
        "with open(\"Example2.txt\",\"w\") as File1:\n",
        "  File1.write(\"This is line A\\n\") #write es para checar una línea dentro del txt\n",
        "  File1.write(\"This is line B\\n\") #cuando se ejecuta hasta aquí se cierra la función open"
      ],
      "metadata": {
        "id": "pgQZp3kFfbUT"
      },
      "execution_count": 22,
      "outputs": []
    },
    {
      "cell_type": "markdown",
      "source": [
        "Podemos crear cada elemento en una lista a un archivo"
      ],
      "metadata": {
        "id": "8Sg9wXSMkBff"
      }
    },
    {
      "cell_type": "code",
      "source": [
        "Lines=[\"This is line A\\n\",\"This is line B\\n\",\"This is line C\\n\"]\n",
        "with open(\"Example2.txt\",\"w\") as File1:\n",
        "  for line in Lines: #usamos un ciclo for para leer cada elemento dentro de la lista Lines y la pasamos a la variable line\n",
        "    File1.write(line) #al final se cierra la función open"
      ],
      "metadata": {
        "id": "TTzIK2EwiTkb"
      },
      "execution_count": 25,
      "outputs": []
    },
    {
      "cell_type": "markdown",
      "source": [
        "Para no crear un nuevo archivo, sino usar el existente se utiliza el método append"
      ],
      "metadata": {
        "id": "QFMU6NmomiyC"
      }
    },
    {
      "cell_type": "code",
      "source": [
        "with open(\"Example2.txt\",\"a\") as File1:\n",
        "  File1.write(\"This is line C\") #esto crea una nueva linea abajo de todo lo existente en el txt y después lo cierra"
      ],
      "metadata": {
        "id": "prv7jrxUktcd"
      },
      "execution_count": 26,
      "outputs": []
    },
    {
      "cell_type": "markdown",
      "source": [
        "Creamos un nuevo archivo txt a partir de uno existente de la siguiente forma:"
      ],
      "metadata": {
        "id": "regJkmLHq6JE"
      }
    },
    {
      "cell_type": "code",
      "source": [
        "with open(\"Example1.txt\",\"r\") as readfile: #archivo que deseamos copiar\n",
        "  with open(\"Example3.txt\",\"w\") as writefile: #archivo nuevo donde deseamos copiar en el archivo Example1.txt\n",
        "    for line in readfile: #ciclo for donde readfile es la lista y line la variable que incrementa\n",
        "      writefile.write(line)"
      ],
      "metadata": {
        "id": "QjEsQBdepo0-"
      },
      "execution_count": 27,
      "outputs": []
    }
  ]
}