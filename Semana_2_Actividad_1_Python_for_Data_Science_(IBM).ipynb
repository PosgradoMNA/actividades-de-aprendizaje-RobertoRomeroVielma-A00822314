{
  "nbformat": 4,
  "nbformat_minor": 0,
  "metadata": {
    "colab": {
      "provenance": [],
      "authorship_tag": "ABX9TyPOjj662AOYC96fF7URofMW",
      "include_colab_link": true
    },
    "kernelspec": {
      "name": "python3",
      "display_name": "Python 3"
    },
    "language_info": {
      "name": "python"
    }
  },
  "cells": [
    {
      "cell_type": "markdown",
      "metadata": {
        "id": "view-in-github",
        "colab_type": "text"
      },
      "source": [
        "<a href=\"https://colab.research.google.com/github/PosgradoMNA/actividades-de-aprendizaje-RobertoRomeroVielma-A00822314/blob/main/Semana_2_Actividad_1_Python_for_Data_Science_(IBM).ipynb\" target=\"_parent\"><img src=\"https://colab.research.google.com/assets/colab-badge.svg\" alt=\"Open In Colab\"/></a>"
      ]
    },
    {
      "cell_type": "markdown",
      "source": [
        "* Nombre del alumno: Roberto Romero Vielma\n",
        "* Matrícula: A00822314"
      ],
      "metadata": {
        "id": "pdvC9hlJ6Kwp"
      }
    },
    {
      "cell_type": "markdown",
      "source": [
        "# Módulo 4"
      ],
      "metadata": {
        "id": "PDoFt3kF1vXG"
      }
    },
    {
      "cell_type": "markdown",
      "source": [
        "## Reading files with open\n",
        "El archivo es un objecto del cual podemos sacar sus propiedades"
      ],
      "metadata": {
        "id": "x5SeBWT510YB"
      }
    },
    {
      "cell_type": "markdown",
      "source": [
        "**Traemos la raw data para usarla localmente**"
      ],
      "metadata": {
        "id": "AoH4glW4tJg9"
      }
    },
    {
      "cell_type": "code",
      "source": [
        "import urllib.request\n",
        "url=\"https://cf-courses-data.s3.us.cloud-object-storage.appdomain.cloud/IBMDeveloperSkillsNetwork-PY0101EN-SkillsNetwork/labs/Module%204/data/example1.txt\"\n",
        "filename=\"Example1.txt\"\n",
        "urllib.request.urlretrieve(url,filename)"
      ],
      "metadata": {
        "colab": {
          "base_uri": "https://localhost:8080/"
        },
        "id": "5qW8a0Uv3S1X",
        "outputId": "00e43461-329f-4eab-8690-6fb16a804057"
      },
      "execution_count": 1,
      "outputs": [
        {
          "output_type": "execute_result",
          "data": {
            "text/plain": [
              "('Example1.txt', <http.client.HTTPMessage at 0x7f3111cee650>)"
            ]
          },
          "metadata": {},
          "execution_count": 1
        }
      ]
    },
    {
      "cell_type": "markdown",
      "source": [
        "* w = write o escribir\n",
        "* r= read o leer\n",
        "* a= append o anexar"
      ],
      "metadata": {
        "id": "XdhD5si53oQE"
      }
    },
    {
      "cell_type": "code",
      "execution_count": 2,
      "metadata": {
        "id": "QoEazPEb0-ZM"
      },
      "outputs": [],
      "source": [
        "File1=open(\"Example1.txt\",\"r\") "
      ]
    },
    {
      "cell_type": "markdown",
      "source": [
        "open es la función, el primer argumento es el nombre y la ruta del archivo, el segundo es el modo (w, r, a)"
      ],
      "metadata": {
        "id": "0lebf9G135Es"
      }
    },
    {
      "cell_type": "code",
      "source": [
        "File1.mode #muestra el modo"
      ],
      "metadata": {
        "colab": {
          "base_uri": "https://localhost:8080/",
          "height": 36
        },
        "id": "KiAZUlcl2Or4",
        "outputId": "d06b891c-2d30-4473-e3c7-c7f5ad80e112"
      },
      "execution_count": 3,
      "outputs": [
        {
          "output_type": "execute_result",
          "data": {
            "text/plain": [
              "'r'"
            ],
            "application/vnd.google.colaboratory.intrinsic+json": {
              "type": "string"
            }
          },
          "metadata": {},
          "execution_count": 3
        }
      ]
    },
    {
      "cell_type": "code",
      "source": [
        "File1.name #muestra el nombre del archivo"
      ],
      "metadata": {
        "colab": {
          "base_uri": "https://localhost:8080/",
          "height": 36
        },
        "id": "BUPukyZ54p46",
        "outputId": "5f171c26-d47e-470b-a74f-905bd1dfdbc2"
      },
      "execution_count": 4,
      "outputs": [
        {
          "output_type": "execute_result",
          "data": {
            "text/plain": [
              "'Example1.txt'"
            ],
            "application/vnd.google.colaboratory.intrinsic+json": {
              "type": "string"
            }
          },
          "metadata": {},
          "execution_count": 4
        }
      ]
    },
    {
      "cell_type": "markdown",
      "source": [
        "Podemos leer el archivo y lo asignamos a una variable"
      ],
      "metadata": {
        "id": "RIztxfYBsv_q"
      }
    },
    {
      "cell_type": "code",
      "source": [
        "FileContent=File1.read()\n",
        "FileContent"
      ],
      "metadata": {
        "colab": {
          "base_uri": "https://localhost:8080/",
          "height": 36
        },
        "id": "RD6Js8k0saej",
        "outputId": "5097f1ae-fd94-4a81-bf9a-d404210d6fd9"
      },
      "execution_count": 5,
      "outputs": [
        {
          "output_type": "execute_result",
          "data": {
            "text/plain": [
              "'This is line 1 \\nThis is line 2\\nThis is line 3'"
            ],
            "application/vnd.google.colaboratory.intrinsic+json": {
              "type": "string"
            }
          },
          "metadata": {},
          "execution_count": 5
        }
      ]
    },
    {
      "cell_type": "code",
      "source": [
        "File1.close()"
      ],
      "metadata": {
        "id": "E2P4Toyk4vVC"
      },
      "execution_count": 6,
      "outputs": []
    },
    {
      "cell_type": "markdown",
      "source": [
        "close () es para cerrar el documento, para que no sea tedioso estar cerrando el archivo cada vez, podemos usar una declarar **with** para cerrarlo en automático"
      ],
      "metadata": {
        "id": "qjl4Ma3j5Yu0"
      }
    },
    {
      "cell_type": "code",
      "source": [
        "with open(\"Example1.txt\",\"r\") as File1: #File object =File1\n",
        "\n",
        "  file_stuff=File1.read() #el método read guarda los valores del archivo en la variable file_stuff como un string\n",
        "\n",
        "  print(file_stuff) #antes del True\n",
        "\n",
        "print(File1.closed)\n",
        "print(file_stuff) #Después del True"
      ],
      "metadata": {
        "colab": {
          "base_uri": "https://localhost:8080/"
        },
        "id": "7QdUY-Cc5gGw",
        "outputId": "8512dcb3-a564-4f94-9ef2-ba2ef80c32af"
      },
      "execution_count": 7,
      "outputs": [
        {
          "output_type": "stream",
          "name": "stdout",
          "text": [
            "This is line 1 \n",
            "This is line 2\n",
            "This is line 3\n",
            "True\n",
            "This is line 1 \n",
            "This is line 2\n",
            "This is line 3\n"
          ]
        }
      ]
    },
    {
      "cell_type": "markdown",
      "source": [
        "Podemos imprimir la variable file_stuff para ver su contenido"
      ],
      "metadata": {
        "id": "S5eHHgc5-edh"
      }
    },
    {
      "cell_type": "code",
      "source": [
        "print(file_stuff) "
      ],
      "metadata": {
        "colab": {
          "base_uri": "https://localhost:8080/"
        },
        "id": "a4lgM3W7-OFg",
        "outputId": "edefd2fd-e502-46b5-d4bd-9824907f914e"
      },
      "execution_count": 8,
      "outputs": [
        {
          "output_type": "stream",
          "name": "stdout",
          "text": [
            "This is line 1 \n",
            "This is line 2\n",
            "This is line 3\n"
          ]
        }
      ]
    },
    {
      "cell_type": "code",
      "source": [
        "file_stuff #si solo llamamos la variable obtenemos el raw string"
      ],
      "metadata": {
        "colab": {
          "base_uri": "https://localhost:8080/",
          "height": 36
        },
        "id": "CpQ5Csyr6jGL",
        "outputId": "513b6b25-fedc-4b4b-ab3d-df86c012c35d"
      },
      "execution_count": 9,
      "outputs": [
        {
          "output_type": "execute_result",
          "data": {
            "text/plain": [
              "'This is line 1 \\nThis is line 2\\nThis is line 3'"
            ],
            "application/vnd.google.colaboratory.intrinsic+json": {
              "type": "string"
            }
          },
          "metadata": {},
          "execution_count": 9
        }
      ]
    },
    {
      "cell_type": "markdown",
      "source": [
        "También podemos leer las lineas dentro del archivo"
      ],
      "metadata": {
        "id": "ixzrdXtB-0B9"
      }
    },
    {
      "cell_type": "code",
      "source": [
        "with open(\"Example1.txt\",\"r\") as File1:\n",
        "\n",
        "  file_stuff=File1.readlines() #esto nos muestra todas las lineas\n",
        "  print(file_stuff)"
      ],
      "metadata": {
        "colab": {
          "base_uri": "https://localhost:8080/"
        },
        "id": "NLeBYBVa7Qvj",
        "outputId": "364c02ed-995c-47c7-a58b-3593ed548e0c"
      },
      "execution_count": 10,
      "outputs": [
        {
          "output_type": "stream",
          "name": "stdout",
          "text": [
            "['This is line 1 \\n', 'This is line 2\\n', 'This is line 3']\n"
          ]
        }
      ]
    },
    {
      "cell_type": "code",
      "source": [
        "\n",
        "with open(\"Example1.txt\",\"r\") as File1:\n",
        "\n",
        "  file_stuff=File1.readline() #esto nos muestra la primera linea\n",
        "  print(file_stuff)\n",
        "  file_stuff=File1.readline() #esto nos muestra la segunda linea\n",
        "  print(file_stuff)"
      ],
      "metadata": {
        "colab": {
          "base_uri": "https://localhost:8080/"
        },
        "id": "EC9wW7vt_PET",
        "outputId": "71f27ca6-de30-42ba-d669-d50c51c30b25"
      },
      "execution_count": 11,
      "outputs": [
        {
          "output_type": "stream",
          "name": "stdout",
          "text": [
            "This is line 1 \n",
            "\n",
            "This is line 2\n",
            "\n"
          ]
        }
      ]
    },
    {
      "cell_type": "markdown",
      "source": [
        "Podemos mostrar todas las lineas dentro de un loop"
      ],
      "metadata": {
        "id": "CDsXUDIBAjYR"
      }
    },
    {
      "cell_type": "code",
      "source": [
        "with open(\"Example1.txt\",\"r\") as File1:\n",
        "  for line in File1:\n",
        "    print(line)"
      ],
      "metadata": {
        "colab": {
          "base_uri": "https://localhost:8080/"
        },
        "id": "FCvXHabcAOqg",
        "outputId": "e427fb35-6244-44fa-8b60-6c300cbe7cd6"
      },
      "execution_count": 12,
      "outputs": [
        {
          "output_type": "stream",
          "name": "stdout",
          "text": [
            "This is line 1 \n",
            "\n",
            "This is line 2\n",
            "\n",
            "This is line 3\n"
          ]
        }
      ]
    },
    {
      "cell_type": "markdown",
      "source": [
        "Adicionalmente se puede mostrar solo una parte de cada línea asignandole un valor númerico dentro de readlines"
      ],
      "metadata": {
        "id": "7EgmE2biArXC"
      }
    },
    {
      "cell_type": "code",
      "source": [
        "with open(\"Example1.txt\",\"r\") as File1:\n",
        "\n",
        "  file_stuff=File1.readlines(4)\n",
        "  print(file_stuff)"
      ],
      "metadata": {
        "colab": {
          "base_uri": "https://localhost:8080/"
        },
        "id": "edOu44p3Afx7",
        "outputId": "ecdb0b26-f4ce-4a7c-87cf-4fa9abea349e"
      },
      "execution_count": 13,
      "outputs": [
        {
          "output_type": "stream",
          "name": "stdout",
          "text": [
            "['This is line 1 \\n']\n"
          ]
        }
      ]
    },
    {
      "cell_type": "code",
      "source": [
        "with open(\"Example1.txt\",\"r\") as File1:\n",
        "\n",
        "  file_stuff=File1.read(16) #agarra las primeras 16 posiciones\n",
        "  print(file_stuff)\n",
        "  file_stuff=File1.read(5) #agarra las siguientes 5 posiciones\n",
        "  print(file_stuff)\n",
        "  file_stuff=File1.read(9) #agarra las siguientes 9 posiciones\n",
        "  print(file_stuff)"
      ],
      "metadata": {
        "colab": {
          "base_uri": "https://localhost:8080/"
        },
        "id": "6niRygZ0BSo9",
        "outputId": "7e1ae152-349e-4466-a99f-50033c0c5853"
      },
      "execution_count": 14,
      "outputs": [
        {
          "output_type": "stream",
          "name": "stdout",
          "text": [
            "This is line 1 \n",
            "\n",
            "This \n",
            "is line 2\n"
          ]
        }
      ]
    },
    {
      "cell_type": "markdown",
      "source": [
        "## Writing Files with Open"
      ],
      "metadata": {
        "id": "QT9kal3Gc7Fy"
      }
    },
    {
      "cell_type": "markdown",
      "source": [
        "El método write sirve para escribir datos dentro de un archivo"
      ],
      "metadata": {
        "id": "ArrHrocGdGJ9"
      }
    },
    {
      "cell_type": "markdown",
      "source": [
        "**Creamos un archivo txt de la siguiente manera**"
      ],
      "metadata": {
        "id": "4mQMpjkze2gU"
      }
    },
    {
      "cell_type": "code",
      "source": [
        "File1=open(\"Example2.txt\",\"w\")"
      ],
      "metadata": {
        "id": "fuAer0gffN84"
      },
      "execution_count": 15,
      "outputs": []
    },
    {
      "cell_type": "markdown",
      "source": [
        "Usamos la función open, usamos como primer argumento la ruta, al final de la ruta ponemos el nombre que queremos para el archivo, el segundo argumento es el modo que en este caso es w o write"
      ],
      "metadata": {
        "id": "vPWnKmnofge8"
      }
    },
    {
      "cell_type": "markdown",
      "source": [
        "Para añadir líneas al txt hacemos lo siguiente (sino existe el archivo lo crea):"
      ],
      "metadata": {
        "id": "SOq8CNt4hyAq"
      }
    },
    {
      "cell_type": "code",
      "source": [
        "with open(\"Example2.txt\",\"w\") as File1:\n",
        "  File1.write(\"This is line A\\n\") #write es para checar una línea dentro del txt\n",
        "  File1.write(\"This is line B\\n\") #cuando se ejecuta hasta aquí se cierra la función open"
      ],
      "metadata": {
        "id": "pgQZp3kFfbUT"
      },
      "execution_count": 16,
      "outputs": []
    },
    {
      "cell_type": "markdown",
      "source": [
        "Podemos crear cada elemento en una lista a un archivo"
      ],
      "metadata": {
        "id": "8Sg9wXSMkBff"
      }
    },
    {
      "cell_type": "code",
      "source": [
        "Lines=[\"This is line A\\n\",\"This is line B\\n\",\"This is line C\\n\"]\n",
        "with open(\"Example2.txt\",\"w\") as File1:\n",
        "  for line in Lines: #usamos un ciclo for para leer cada elemento dentro de la lista Lines y la pasamos a la variable line\n",
        "    File1.write(line) #al final se cierra la función open"
      ],
      "metadata": {
        "id": "TTzIK2EwiTkb"
      },
      "execution_count": 17,
      "outputs": []
    },
    {
      "cell_type": "markdown",
      "source": [
        "Para no crear un nuevo archivo, sino usar el existente se utiliza el método append"
      ],
      "metadata": {
        "id": "QFMU6NmomiyC"
      }
    },
    {
      "cell_type": "code",
      "source": [
        "with open(\"Example2.txt\",\"a\") as File1:\n",
        "  File1.write(\"This is line C\") #esto crea una nueva linea abajo de todo lo existente en el txt y después lo cierra"
      ],
      "metadata": {
        "id": "prv7jrxUktcd"
      },
      "execution_count": 18,
      "outputs": []
    },
    {
      "cell_type": "markdown",
      "source": [
        "Creamos un nuevo archivo txt a partir de uno existente de la siguiente forma:"
      ],
      "metadata": {
        "id": "regJkmLHq6JE"
      }
    },
    {
      "cell_type": "code",
      "source": [
        "with open(\"Example1.txt\",\"r\") as readfile: #archivo que deseamos copiar\n",
        "  with open(\"Example3.txt\",\"w\") as writefile: #archivo nuevo donde deseamos copiar en el archivo Example1.txt\n",
        "    for line in readfile: #ciclo for donde readfile es la lista y line la variable que incrementa\n",
        "      writefile.write(line)"
      ],
      "metadata": {
        "id": "QjEsQBdepo0-"
      },
      "execution_count": 19,
      "outputs": []
    },
    {
      "cell_type": "markdown",
      "source": [
        "# Loading Data with Pandas\n",
        "Pandas sirve para cargar datos (muy popular para el análisis de datos)"
      ],
      "metadata": {
        "id": "LxRvnv77uos3"
      }
    },
    {
      "cell_type": "markdown",
      "source": [
        "Para importar la librería de pandas usamos el siguiente comando"
      ],
      "metadata": {
        "id": "zIiK-0kMvgy6"
      }
    },
    {
      "cell_type": "code",
      "source": [
        "import pandas"
      ],
      "metadata": {
        "id": "BunbrL9rur08"
      },
      "execution_count": 20,
      "outputs": []
    },
    {
      "cell_type": "markdown",
      "source": [
        "Clases y funciones de pandas:\n",
        "* read_csv()\n",
        "* Series()\n",
        "* DataFrame\n",
        "* values"
      ],
      "metadata": {
        "id": "mXPtd11AwESi"
      }
    },
    {
      "cell_type": "markdown",
      "source": [
        "Para cargar un archivo se hace de la siguiente manera:"
      ],
      "metadata": {
        "id": "iaWd_n5u19G1"
      }
    },
    {
      "cell_type": "code",
      "source": [
        "csv_path=\"https://raw.githubusercontent.com/rromerov/fires-across-Australia/main/file1.csv\" #link desde donde proviene el archivo csv\n",
        "df=pandas.read_csv(csv_path) #de esta manera cargamos el archivo csv"
      ],
      "metadata": {
        "id": "hiAYNIDSvqit"
      },
      "execution_count": 21,
      "outputs": []
    },
    {
      "cell_type": "markdown",
      "source": [
        "La forma para evitar escribir pandas tantas veces es renombrándolo de esta forma:"
      ],
      "metadata": {
        "id": "JtM59B8q3V4H"
      }
    },
    {
      "cell_type": "code",
      "source": [
        "import pandas as pd # as seguido del apodo que le queremos pd es el más común\n",
        "csv_path=\"https://raw.githubusercontent.com/rromerov/fires-across-Australia/main/file1.csv\" #link desde donde proviene el archivo csv\n",
        "df=pd.read_csv(csv_path)"
      ],
      "metadata": {
        "id": "uWKo_1df2wny"
      },
      "execution_count": 22,
      "outputs": []
    },
    {
      "cell_type": "markdown",
      "source": [
        "También le podemos poner el apodo que queramos"
      ],
      "metadata": {
        "id": "rPdzpHv44hyA"
      }
    },
    {
      "cell_type": "code",
      "source": [
        "import pandas as banana\n",
        "csv_path=\"https://raw.githubusercontent.com/rromerov/fires-across-Australia/main/file1.csv\" #link desde donde proviene el archivo csv\n",
        "df=banana.read_csv(csv_path)"
      ],
      "metadata": {
        "id": "ofvyhJPX32HT"
      },
      "execution_count": 23,
      "outputs": []
    },
    {
      "cell_type": "markdown",
      "source": [
        "## Dataframes"
      ],
      "metadata": {
        "id": "yuPPj4y55V0v"
      }
    },
    {
      "cell_type": "code",
      "source": [
        "csv_path=\"https://raw.githubusercontent.com/rromerov/fires-across-Australia/main/file1.csv\"\n",
        "df=pd.read_csv(csv_path) #creamos una variable que se llama df, abreviatura de dataframe\n",
        "df.head() #el método head() sirve para mostrar los primeros 5 registros del dataframe"
      ],
      "metadata": {
        "id": "ECAYXFab40vG",
        "outputId": "363c7d62-08a2-4001-bae8-1c3b97366870",
        "colab": {
          "base_uri": "https://localhost:8080/",
          "height": 206
        }
      },
      "execution_count": 24,
      "outputs": [
        {
          "output_type": "execute_result",
          "data": {
            "text/plain": [
              "   longitude  latitude  housing_median_age  total_rooms  total_bedrooms  \\\n",
              "0    -122.05     37.37                27.0       3885.0           661.0   \n",
              "1    -118.30     34.26                43.0       1510.0           310.0   \n",
              "2    -117.81     33.78                27.0       3589.0           507.0   \n",
              "3    -118.36     33.82                28.0         67.0            15.0   \n",
              "4    -119.67     36.33                19.0       1241.0           244.0   \n",
              "\n",
              "   population  households  median_income  median_house_value  \n",
              "0      1537.0       606.0         6.6085            344700.0  \n",
              "1       809.0       277.0         3.5990            176500.0  \n",
              "2      1484.0       495.0         5.7934            270500.0  \n",
              "3        49.0        11.0         6.1359            330000.0  \n",
              "4       850.0       237.0         2.9375             81700.0  "
            ],
            "text/html": [
              "\n",
              "  <div id=\"df-ab11afa2-5296-4e37-a09f-89ba1bed0f94\">\n",
              "    <div class=\"colab-df-container\">\n",
              "      <div>\n",
              "<style scoped>\n",
              "    .dataframe tbody tr th:only-of-type {\n",
              "        vertical-align: middle;\n",
              "    }\n",
              "\n",
              "    .dataframe tbody tr th {\n",
              "        vertical-align: top;\n",
              "    }\n",
              "\n",
              "    .dataframe thead th {\n",
              "        text-align: right;\n",
              "    }\n",
              "</style>\n",
              "<table border=\"1\" class=\"dataframe\">\n",
              "  <thead>\n",
              "    <tr style=\"text-align: right;\">\n",
              "      <th></th>\n",
              "      <th>longitude</th>\n",
              "      <th>latitude</th>\n",
              "      <th>housing_median_age</th>\n",
              "      <th>total_rooms</th>\n",
              "      <th>total_bedrooms</th>\n",
              "      <th>population</th>\n",
              "      <th>households</th>\n",
              "      <th>median_income</th>\n",
              "      <th>median_house_value</th>\n",
              "    </tr>\n",
              "  </thead>\n",
              "  <tbody>\n",
              "    <tr>\n",
              "      <th>0</th>\n",
              "      <td>-122.05</td>\n",
              "      <td>37.37</td>\n",
              "      <td>27.0</td>\n",
              "      <td>3885.0</td>\n",
              "      <td>661.0</td>\n",
              "      <td>1537.0</td>\n",
              "      <td>606.0</td>\n",
              "      <td>6.6085</td>\n",
              "      <td>344700.0</td>\n",
              "    </tr>\n",
              "    <tr>\n",
              "      <th>1</th>\n",
              "      <td>-118.30</td>\n",
              "      <td>34.26</td>\n",
              "      <td>43.0</td>\n",
              "      <td>1510.0</td>\n",
              "      <td>310.0</td>\n",
              "      <td>809.0</td>\n",
              "      <td>277.0</td>\n",
              "      <td>3.5990</td>\n",
              "      <td>176500.0</td>\n",
              "    </tr>\n",
              "    <tr>\n",
              "      <th>2</th>\n",
              "      <td>-117.81</td>\n",
              "      <td>33.78</td>\n",
              "      <td>27.0</td>\n",
              "      <td>3589.0</td>\n",
              "      <td>507.0</td>\n",
              "      <td>1484.0</td>\n",
              "      <td>495.0</td>\n",
              "      <td>5.7934</td>\n",
              "      <td>270500.0</td>\n",
              "    </tr>\n",
              "    <tr>\n",
              "      <th>3</th>\n",
              "      <td>-118.36</td>\n",
              "      <td>33.82</td>\n",
              "      <td>28.0</td>\n",
              "      <td>67.0</td>\n",
              "      <td>15.0</td>\n",
              "      <td>49.0</td>\n",
              "      <td>11.0</td>\n",
              "      <td>6.1359</td>\n",
              "      <td>330000.0</td>\n",
              "    </tr>\n",
              "    <tr>\n",
              "      <th>4</th>\n",
              "      <td>-119.67</td>\n",
              "      <td>36.33</td>\n",
              "      <td>19.0</td>\n",
              "      <td>1241.0</td>\n",
              "      <td>244.0</td>\n",
              "      <td>850.0</td>\n",
              "      <td>237.0</td>\n",
              "      <td>2.9375</td>\n",
              "      <td>81700.0</td>\n",
              "    </tr>\n",
              "  </tbody>\n",
              "</table>\n",
              "</div>\n",
              "      <button class=\"colab-df-convert\" onclick=\"convertToInteractive('df-ab11afa2-5296-4e37-a09f-89ba1bed0f94')\"\n",
              "              title=\"Convert this dataframe to an interactive table.\"\n",
              "              style=\"display:none;\">\n",
              "        \n",
              "  <svg xmlns=\"http://www.w3.org/2000/svg\" height=\"24px\"viewBox=\"0 0 24 24\"\n",
              "       width=\"24px\">\n",
              "    <path d=\"M0 0h24v24H0V0z\" fill=\"none\"/>\n",
              "    <path d=\"M18.56 5.44l.94 2.06.94-2.06 2.06-.94-2.06-.94-.94-2.06-.94 2.06-2.06.94zm-11 1L8.5 8.5l.94-2.06 2.06-.94-2.06-.94L8.5 2.5l-.94 2.06-2.06.94zm10 10l.94 2.06.94-2.06 2.06-.94-2.06-.94-.94-2.06-.94 2.06-2.06.94z\"/><path d=\"M17.41 7.96l-1.37-1.37c-.4-.4-.92-.59-1.43-.59-.52 0-1.04.2-1.43.59L10.3 9.45l-7.72 7.72c-.78.78-.78 2.05 0 2.83L4 21.41c.39.39.9.59 1.41.59.51 0 1.02-.2 1.41-.59l7.78-7.78 2.81-2.81c.8-.78.8-2.07 0-2.86zM5.41 20L4 18.59l7.72-7.72 1.47 1.35L5.41 20z\"/>\n",
              "  </svg>\n",
              "      </button>\n",
              "      \n",
              "  <style>\n",
              "    .colab-df-container {\n",
              "      display:flex;\n",
              "      flex-wrap:wrap;\n",
              "      gap: 12px;\n",
              "    }\n",
              "\n",
              "    .colab-df-convert {\n",
              "      background-color: #E8F0FE;\n",
              "      border: none;\n",
              "      border-radius: 50%;\n",
              "      cursor: pointer;\n",
              "      display: none;\n",
              "      fill: #1967D2;\n",
              "      height: 32px;\n",
              "      padding: 0 0 0 0;\n",
              "      width: 32px;\n",
              "    }\n",
              "\n",
              "    .colab-df-convert:hover {\n",
              "      background-color: #E2EBFA;\n",
              "      box-shadow: 0px 1px 2px rgba(60, 64, 67, 0.3), 0px 1px 3px 1px rgba(60, 64, 67, 0.15);\n",
              "      fill: #174EA6;\n",
              "    }\n",
              "\n",
              "    [theme=dark] .colab-df-convert {\n",
              "      background-color: #3B4455;\n",
              "      fill: #D2E3FC;\n",
              "    }\n",
              "\n",
              "    [theme=dark] .colab-df-convert:hover {\n",
              "      background-color: #434B5C;\n",
              "      box-shadow: 0px 1px 3px 1px rgba(0, 0, 0, 0.15);\n",
              "      filter: drop-shadow(0px 1px 2px rgba(0, 0, 0, 0.3));\n",
              "      fill: #FFFFFF;\n",
              "    }\n",
              "  </style>\n",
              "\n",
              "      <script>\n",
              "        const buttonEl =\n",
              "          document.querySelector('#df-ab11afa2-5296-4e37-a09f-89ba1bed0f94 button.colab-df-convert');\n",
              "        buttonEl.style.display =\n",
              "          google.colab.kernel.accessAllowed ? 'block' : 'none';\n",
              "\n",
              "        async function convertToInteractive(key) {\n",
              "          const element = document.querySelector('#df-ab11afa2-5296-4e37-a09f-89ba1bed0f94');\n",
              "          const dataTable =\n",
              "            await google.colab.kernel.invokeFunction('convertToInteractive',\n",
              "                                                     [key], {});\n",
              "          if (!dataTable) return;\n",
              "\n",
              "          const docLinkHtml = 'Like what you see? Visit the ' +\n",
              "            '<a target=\"_blank\" href=https://colab.research.google.com/notebooks/data_table.ipynb>data table notebook</a>'\n",
              "            + ' to learn more about interactive tables.';\n",
              "          element.innerHTML = '';\n",
              "          dataTable['output_type'] = 'display_data';\n",
              "          await google.colab.output.renderOutput(dataTable, element);\n",
              "          const docLink = document.createElement('div');\n",
              "          docLink.innerHTML = docLinkHtml;\n",
              "          element.appendChild(docLink);\n",
              "        }\n",
              "      </script>\n",
              "    </div>\n",
              "  </div>\n",
              "  "
            ]
          },
          "metadata": {},
          "execution_count": 24
        }
      ]
    },
    {
      "cell_type": "code",
      "source": [
        "# convertimos el csv a xlsx para usar el método pd.read_excel\n",
        "excel = pd.ExcelWriter('file1.xlsx') #nombre que queremos para el archivo\n",
        "df.to_excel(excel, index=False) #convertir csv a excel\n",
        " \n",
        "excel.save() #lo guardamos localmente"
      ],
      "metadata": {
        "id": "PBGz6Eq380O-"
      },
      "execution_count": 32,
      "outputs": []
    },
    {
      "cell_type": "markdown",
      "source": [
        "El proceso para cargar un excel es parecido al del csv"
      ],
      "metadata": {
        "id": "Q6-U4bWo_OXs"
      }
    },
    {
      "cell_type": "code",
      "source": [
        "xlsx_path=\"file1.xlsx\" #ruta del archivo\n",
        "df=pd.read_excel(xlsx_path) #método para cargar archivo excel\n",
        "df.head()"
      ],
      "metadata": {
        "id": "dH2f-IOv-jpz",
        "outputId": "05cfdb77-34e1-4ad2-a118-31a7e41ae2c4",
        "colab": {
          "base_uri": "https://localhost:8080/",
          "height": 206
        }
      },
      "execution_count": 33,
      "outputs": [
        {
          "output_type": "execute_result",
          "data": {
            "text/plain": [
              "   longitude  latitude  housing_median_age  total_rooms  total_bedrooms  \\\n",
              "0    -122.05     37.37                  27         3885             661   \n",
              "1    -118.30     34.26                  43         1510             310   \n",
              "2    -117.81     33.78                  27         3589             507   \n",
              "3    -118.36     33.82                  28           67              15   \n",
              "4    -119.67     36.33                  19         1241             244   \n",
              "\n",
              "   population  households  median_income  median_house_value  \n",
              "0        1537         606         6.6085              344700  \n",
              "1         809         277         3.5990              176500  \n",
              "2        1484         495         5.7934              270500  \n",
              "3          49          11         6.1359              330000  \n",
              "4         850         237         2.9375               81700  "
            ],
            "text/html": [
              "\n",
              "  <div id=\"df-95d14b99-f932-41d3-b09d-797ce9648172\">\n",
              "    <div class=\"colab-df-container\">\n",
              "      <div>\n",
              "<style scoped>\n",
              "    .dataframe tbody tr th:only-of-type {\n",
              "        vertical-align: middle;\n",
              "    }\n",
              "\n",
              "    .dataframe tbody tr th {\n",
              "        vertical-align: top;\n",
              "    }\n",
              "\n",
              "    .dataframe thead th {\n",
              "        text-align: right;\n",
              "    }\n",
              "</style>\n",
              "<table border=\"1\" class=\"dataframe\">\n",
              "  <thead>\n",
              "    <tr style=\"text-align: right;\">\n",
              "      <th></th>\n",
              "      <th>longitude</th>\n",
              "      <th>latitude</th>\n",
              "      <th>housing_median_age</th>\n",
              "      <th>total_rooms</th>\n",
              "      <th>total_bedrooms</th>\n",
              "      <th>population</th>\n",
              "      <th>households</th>\n",
              "      <th>median_income</th>\n",
              "      <th>median_house_value</th>\n",
              "    </tr>\n",
              "  </thead>\n",
              "  <tbody>\n",
              "    <tr>\n",
              "      <th>0</th>\n",
              "      <td>-122.05</td>\n",
              "      <td>37.37</td>\n",
              "      <td>27</td>\n",
              "      <td>3885</td>\n",
              "      <td>661</td>\n",
              "      <td>1537</td>\n",
              "      <td>606</td>\n",
              "      <td>6.6085</td>\n",
              "      <td>344700</td>\n",
              "    </tr>\n",
              "    <tr>\n",
              "      <th>1</th>\n",
              "      <td>-118.30</td>\n",
              "      <td>34.26</td>\n",
              "      <td>43</td>\n",
              "      <td>1510</td>\n",
              "      <td>310</td>\n",
              "      <td>809</td>\n",
              "      <td>277</td>\n",
              "      <td>3.5990</td>\n",
              "      <td>176500</td>\n",
              "    </tr>\n",
              "    <tr>\n",
              "      <th>2</th>\n",
              "      <td>-117.81</td>\n",
              "      <td>33.78</td>\n",
              "      <td>27</td>\n",
              "      <td>3589</td>\n",
              "      <td>507</td>\n",
              "      <td>1484</td>\n",
              "      <td>495</td>\n",
              "      <td>5.7934</td>\n",
              "      <td>270500</td>\n",
              "    </tr>\n",
              "    <tr>\n",
              "      <th>3</th>\n",
              "      <td>-118.36</td>\n",
              "      <td>33.82</td>\n",
              "      <td>28</td>\n",
              "      <td>67</td>\n",
              "      <td>15</td>\n",
              "      <td>49</td>\n",
              "      <td>11</td>\n",
              "      <td>6.1359</td>\n",
              "      <td>330000</td>\n",
              "    </tr>\n",
              "    <tr>\n",
              "      <th>4</th>\n",
              "      <td>-119.67</td>\n",
              "      <td>36.33</td>\n",
              "      <td>19</td>\n",
              "      <td>1241</td>\n",
              "      <td>244</td>\n",
              "      <td>850</td>\n",
              "      <td>237</td>\n",
              "      <td>2.9375</td>\n",
              "      <td>81700</td>\n",
              "    </tr>\n",
              "  </tbody>\n",
              "</table>\n",
              "</div>\n",
              "      <button class=\"colab-df-convert\" onclick=\"convertToInteractive('df-95d14b99-f932-41d3-b09d-797ce9648172')\"\n",
              "              title=\"Convert this dataframe to an interactive table.\"\n",
              "              style=\"display:none;\">\n",
              "        \n",
              "  <svg xmlns=\"http://www.w3.org/2000/svg\" height=\"24px\"viewBox=\"0 0 24 24\"\n",
              "       width=\"24px\">\n",
              "    <path d=\"M0 0h24v24H0V0z\" fill=\"none\"/>\n",
              "    <path d=\"M18.56 5.44l.94 2.06.94-2.06 2.06-.94-2.06-.94-.94-2.06-.94 2.06-2.06.94zm-11 1L8.5 8.5l.94-2.06 2.06-.94-2.06-.94L8.5 2.5l-.94 2.06-2.06.94zm10 10l.94 2.06.94-2.06 2.06-.94-2.06-.94-.94-2.06-.94 2.06-2.06.94z\"/><path d=\"M17.41 7.96l-1.37-1.37c-.4-.4-.92-.59-1.43-.59-.52 0-1.04.2-1.43.59L10.3 9.45l-7.72 7.72c-.78.78-.78 2.05 0 2.83L4 21.41c.39.39.9.59 1.41.59.51 0 1.02-.2 1.41-.59l7.78-7.78 2.81-2.81c.8-.78.8-2.07 0-2.86zM5.41 20L4 18.59l7.72-7.72 1.47 1.35L5.41 20z\"/>\n",
              "  </svg>\n",
              "      </button>\n",
              "      \n",
              "  <style>\n",
              "    .colab-df-container {\n",
              "      display:flex;\n",
              "      flex-wrap:wrap;\n",
              "      gap: 12px;\n",
              "    }\n",
              "\n",
              "    .colab-df-convert {\n",
              "      background-color: #E8F0FE;\n",
              "      border: none;\n",
              "      border-radius: 50%;\n",
              "      cursor: pointer;\n",
              "      display: none;\n",
              "      fill: #1967D2;\n",
              "      height: 32px;\n",
              "      padding: 0 0 0 0;\n",
              "      width: 32px;\n",
              "    }\n",
              "\n",
              "    .colab-df-convert:hover {\n",
              "      background-color: #E2EBFA;\n",
              "      box-shadow: 0px 1px 2px rgba(60, 64, 67, 0.3), 0px 1px 3px 1px rgba(60, 64, 67, 0.15);\n",
              "      fill: #174EA6;\n",
              "    }\n",
              "\n",
              "    [theme=dark] .colab-df-convert {\n",
              "      background-color: #3B4455;\n",
              "      fill: #D2E3FC;\n",
              "    }\n",
              "\n",
              "    [theme=dark] .colab-df-convert:hover {\n",
              "      background-color: #434B5C;\n",
              "      box-shadow: 0px 1px 3px 1px rgba(0, 0, 0, 0.15);\n",
              "      filter: drop-shadow(0px 1px 2px rgba(0, 0, 0, 0.3));\n",
              "      fill: #FFFFFF;\n",
              "    }\n",
              "  </style>\n",
              "\n",
              "      <script>\n",
              "        const buttonEl =\n",
              "          document.querySelector('#df-95d14b99-f932-41d3-b09d-797ce9648172 button.colab-df-convert');\n",
              "        buttonEl.style.display =\n",
              "          google.colab.kernel.accessAllowed ? 'block' : 'none';\n",
              "\n",
              "        async function convertToInteractive(key) {\n",
              "          const element = document.querySelector('#df-95d14b99-f932-41d3-b09d-797ce9648172');\n",
              "          const dataTable =\n",
              "            await google.colab.kernel.invokeFunction('convertToInteractive',\n",
              "                                                     [key], {});\n",
              "          if (!dataTable) return;\n",
              "\n",
              "          const docLinkHtml = 'Like what you see? Visit the ' +\n",
              "            '<a target=\"_blank\" href=https://colab.research.google.com/notebooks/data_table.ipynb>data table notebook</a>'\n",
              "            + ' to learn more about interactive tables.';\n",
              "          element.innerHTML = '';\n",
              "          dataTable['output_type'] = 'display_data';\n",
              "          await google.colab.output.renderOutput(dataTable, element);\n",
              "          const docLink = document.createElement('div');\n",
              "          docLink.innerHTML = docLinkHtml;\n",
              "          element.appendChild(docLink);\n",
              "        }\n",
              "      </script>\n",
              "    </div>\n",
              "  </div>\n",
              "  "
            ]
          },
          "metadata": {},
          "execution_count": 33
        }
      ]
    },
    {
      "cell_type": "markdown",
      "source": [
        "Un dataframe está compuesto de filas y columnas. Se puede crear un dataframe de un diccionario"
      ],
      "metadata": {
        "id": "SEuyzuBd_u9_"
      }
    },
    {
      "cell_type": "markdown",
      "source": [
        "* La llaves corresponen a las etiquetas de las columnas\n",
        "* Los valores son las listas que co,rresponden a las filas"
      ],
      "metadata": {
        "id": "j4NH52Tu_6OI"
      }
    },
    {
      "cell_type": "code",
      "source": [
        "songs={\"Album\":[\"Thriller\",\"Back in Black\",\"The Dark Side of the Moon\",\"The Bodyguard\",\"Bat Out of Hell\"], \n",
        "       \"Released\":[1982,1980,1973,1992,1977],\n",
        "       \"Length\":[\"00:42:19\",\"00:42:11\",\"00:42:49\",\"00:57:44\",\"00:46:33\"]}"
      ],
      "metadata": {
        "id": "OVEdMYyl_gjA"
      },
      "execution_count": 37,
      "outputs": []
    },
    {
      "cell_type": "code",
      "source": [
        "songs_frame=pd.DataFrame(songs) #la función DataFrame convierte el diccionario en un dataframe"
      ],
      "metadata": {
        "id": "mWHtysivBLg3"
      },
      "execution_count": 39,
      "outputs": []
    },
    {
      "cell_type": "code",
      "source": [
        "songs_frame.head()"
      ],
      "metadata": {
        "id": "myH02WUkE4SU",
        "outputId": "710c1610-8b4e-4215-9718-bb950e2dd0ea",
        "colab": {
          "base_uri": "https://localhost:8080/",
          "height": 206
        }
      },
      "execution_count": 52,
      "outputs": [
        {
          "output_type": "execute_result",
          "data": {
            "text/plain": [
              "                       Album  Released    Length\n",
              "0                   Thriller      1982  00:42:19\n",
              "1              Back in Black      1980  00:42:11\n",
              "2  The Dark Side of the Moon      1973  00:42:49\n",
              "3              The Bodyguard      1992  00:57:44\n",
              "4            Bat Out of Hell      1977  00:46:33"
            ],
            "text/html": [
              "\n",
              "  <div id=\"df-16ef708c-4d5e-42be-bc6f-386d544f83dc\">\n",
              "    <div class=\"colab-df-container\">\n",
              "      <div>\n",
              "<style scoped>\n",
              "    .dataframe tbody tr th:only-of-type {\n",
              "        vertical-align: middle;\n",
              "    }\n",
              "\n",
              "    .dataframe tbody tr th {\n",
              "        vertical-align: top;\n",
              "    }\n",
              "\n",
              "    .dataframe thead th {\n",
              "        text-align: right;\n",
              "    }\n",
              "</style>\n",
              "<table border=\"1\" class=\"dataframe\">\n",
              "  <thead>\n",
              "    <tr style=\"text-align: right;\">\n",
              "      <th></th>\n",
              "      <th>Album</th>\n",
              "      <th>Released</th>\n",
              "      <th>Length</th>\n",
              "    </tr>\n",
              "  </thead>\n",
              "  <tbody>\n",
              "    <tr>\n",
              "      <th>0</th>\n",
              "      <td>Thriller</td>\n",
              "      <td>1982</td>\n",
              "      <td>00:42:19</td>\n",
              "    </tr>\n",
              "    <tr>\n",
              "      <th>1</th>\n",
              "      <td>Back in Black</td>\n",
              "      <td>1980</td>\n",
              "      <td>00:42:11</td>\n",
              "    </tr>\n",
              "    <tr>\n",
              "      <th>2</th>\n",
              "      <td>The Dark Side of the Moon</td>\n",
              "      <td>1973</td>\n",
              "      <td>00:42:49</td>\n",
              "    </tr>\n",
              "    <tr>\n",
              "      <th>3</th>\n",
              "      <td>The Bodyguard</td>\n",
              "      <td>1992</td>\n",
              "      <td>00:57:44</td>\n",
              "    </tr>\n",
              "    <tr>\n",
              "      <th>4</th>\n",
              "      <td>Bat Out of Hell</td>\n",
              "      <td>1977</td>\n",
              "      <td>00:46:33</td>\n",
              "    </tr>\n",
              "  </tbody>\n",
              "</table>\n",
              "</div>\n",
              "      <button class=\"colab-df-convert\" onclick=\"convertToInteractive('df-16ef708c-4d5e-42be-bc6f-386d544f83dc')\"\n",
              "              title=\"Convert this dataframe to an interactive table.\"\n",
              "              style=\"display:none;\">\n",
              "        \n",
              "  <svg xmlns=\"http://www.w3.org/2000/svg\" height=\"24px\"viewBox=\"0 0 24 24\"\n",
              "       width=\"24px\">\n",
              "    <path d=\"M0 0h24v24H0V0z\" fill=\"none\"/>\n",
              "    <path d=\"M18.56 5.44l.94 2.06.94-2.06 2.06-.94-2.06-.94-.94-2.06-.94 2.06-2.06.94zm-11 1L8.5 8.5l.94-2.06 2.06-.94-2.06-.94L8.5 2.5l-.94 2.06-2.06.94zm10 10l.94 2.06.94-2.06 2.06-.94-2.06-.94-.94-2.06-.94 2.06-2.06.94z\"/><path d=\"M17.41 7.96l-1.37-1.37c-.4-.4-.92-.59-1.43-.59-.52 0-1.04.2-1.43.59L10.3 9.45l-7.72 7.72c-.78.78-.78 2.05 0 2.83L4 21.41c.39.39.9.59 1.41.59.51 0 1.02-.2 1.41-.59l7.78-7.78 2.81-2.81c.8-.78.8-2.07 0-2.86zM5.41 20L4 18.59l7.72-7.72 1.47 1.35L5.41 20z\"/>\n",
              "  </svg>\n",
              "      </button>\n",
              "      \n",
              "  <style>\n",
              "    .colab-df-container {\n",
              "      display:flex;\n",
              "      flex-wrap:wrap;\n",
              "      gap: 12px;\n",
              "    }\n",
              "\n",
              "    .colab-df-convert {\n",
              "      background-color: #E8F0FE;\n",
              "      border: none;\n",
              "      border-radius: 50%;\n",
              "      cursor: pointer;\n",
              "      display: none;\n",
              "      fill: #1967D2;\n",
              "      height: 32px;\n",
              "      padding: 0 0 0 0;\n",
              "      width: 32px;\n",
              "    }\n",
              "\n",
              "    .colab-df-convert:hover {\n",
              "      background-color: #E2EBFA;\n",
              "      box-shadow: 0px 1px 2px rgba(60, 64, 67, 0.3), 0px 1px 3px 1px rgba(60, 64, 67, 0.15);\n",
              "      fill: #174EA6;\n",
              "    }\n",
              "\n",
              "    [theme=dark] .colab-df-convert {\n",
              "      background-color: #3B4455;\n",
              "      fill: #D2E3FC;\n",
              "    }\n",
              "\n",
              "    [theme=dark] .colab-df-convert:hover {\n",
              "      background-color: #434B5C;\n",
              "      box-shadow: 0px 1px 3px 1px rgba(0, 0, 0, 0.15);\n",
              "      filter: drop-shadow(0px 1px 2px rgba(0, 0, 0, 0.3));\n",
              "      fill: #FFFFFF;\n",
              "    }\n",
              "  </style>\n",
              "\n",
              "      <script>\n",
              "        const buttonEl =\n",
              "          document.querySelector('#df-16ef708c-4d5e-42be-bc6f-386d544f83dc button.colab-df-convert');\n",
              "        buttonEl.style.display =\n",
              "          google.colab.kernel.accessAllowed ? 'block' : 'none';\n",
              "\n",
              "        async function convertToInteractive(key) {\n",
              "          const element = document.querySelector('#df-16ef708c-4d5e-42be-bc6f-386d544f83dc');\n",
              "          const dataTable =\n",
              "            await google.colab.kernel.invokeFunction('convertToInteractive',\n",
              "                                                     [key], {});\n",
              "          if (!dataTable) return;\n",
              "\n",
              "          const docLinkHtml = 'Like what you see? Visit the ' +\n",
              "            '<a target=\"_blank\" href=https://colab.research.google.com/notebooks/data_table.ipynb>data table notebook</a>'\n",
              "            + ' to learn more about interactive tables.';\n",
              "          element.innerHTML = '';\n",
              "          dataTable['output_type'] = 'display_data';\n",
              "          await google.colab.output.renderOutput(dataTable, element);\n",
              "          const docLink = document.createElement('div');\n",
              "          docLink.innerHTML = docLinkHtml;\n",
              "          element.appendChild(docLink);\n",
              "        }\n",
              "      </script>\n",
              "    </div>\n",
              "  </div>\n",
              "  "
            ]
          },
          "metadata": {},
          "execution_count": 52
        }
      ]
    },
    {
      "cell_type": "markdown",
      "source": [
        "* Las llaves corresponden a los nombres de las columnas en el dataframe\n",
        "* Los valores corresponden a las filas"
      ],
      "metadata": {
        "id": "Nv-ah16cCEpA"
      }
    },
    {
      "cell_type": "markdown",
      "source": [
        "Podemos crear un nuevo dataframe que consiste de una sola columna de otro dataframe"
      ],
      "metadata": {
        "id": "DfDVFWh3CuM7"
      }
    },
    {
      "cell_type": "code",
      "source": [
        "X=df[\"longitude\"]"
      ],
      "metadata": {
        "id": "2qCTrTCVBZT0"
      },
      "execution_count": 42,
      "outputs": []
    },
    {
      "cell_type": "markdown",
      "source": [
        "También se pueden seleccionar varias columnas de un dataset para crear uno nuevo"
      ],
      "metadata": {
        "id": "JwA4cvO_Dhv8"
      }
    },
    {
      "cell_type": "code",
      "source": [
        "Y=df[[\"longitude\",\"latitude\",\"housing_median_age\"]]"
      ],
      "metadata": {
        "id": "GY4FD0UaDVI_"
      },
      "execution_count": 58,
      "outputs": []
    },
    {
      "cell_type": "markdown",
      "source": [
        "Para seleccionar elementos únicos dentro del dataframe usamos el método iloc (ix obsoleto)"
      ],
      "metadata": {
        "id": "Kqh2BBGTGK72"
      }
    },
    {
      "cell_type": "code",
      "source": [
        "df.iloc[0,0] # primero va la fila y después la columna"
      ],
      "metadata": {
        "id": "tr8wZj98F_Ux",
        "outputId": "5bdab811-1d78-4438-8a90-f83a6e41bd62",
        "colab": {
          "base_uri": "https://localhost:8080/"
        }
      },
      "execution_count": 64,
      "outputs": [
        {
          "output_type": "execute_result",
          "data": {
            "text/plain": [
              "-122.05"
            ]
          },
          "metadata": {},
          "execution_count": 64
        }
      ]
    },
    {
      "cell_type": "code",
      "source": [
        "df.iloc[1,0] #segunda fila y primer columna"
      ],
      "metadata": {
        "id": "naJk8J83GXm8",
        "outputId": "8b0f2e61-db86-4562-fd75-2e56984842ce",
        "colab": {
          "base_uri": "https://localhost:8080/"
        }
      },
      "execution_count": 66,
      "outputs": [
        {
          "output_type": "execute_result",
          "data": {
            "text/plain": [
              "-118.3"
            ]
          },
          "metadata": {},
          "execution_count": 66
        }
      ]
    },
    {
      "cell_type": "code",
      "source": [
        "df.iloc[0,2] #primera fila y tercera columna"
      ],
      "metadata": {
        "id": "kff_fWnvHJum",
        "outputId": "0bc7217a-a156-47c8-fdc5-afe18cbb7900",
        "colab": {
          "base_uri": "https://localhost:8080/"
        }
      },
      "execution_count": 68,
      "outputs": [
        {
          "output_type": "execute_result",
          "data": {
            "text/plain": [
              "27"
            ]
          },
          "metadata": {},
          "execution_count": 68
        }
      ]
    },
    {
      "cell_type": "code",
      "source": [
        "df.iloc[1,2] #segunda fila y tercera columna"
      ],
      "metadata": {
        "id": "c-75b8kgHUvt",
        "outputId": "263ddf54-8438-4dea-a8bb-283ecbc89a90",
        "colab": {
          "base_uri": "https://localhost:8080/"
        }
      },
      "execution_count": 69,
      "outputs": [
        {
          "output_type": "execute_result",
          "data": {
            "text/plain": [
              "43"
            ]
          },
          "metadata": {},
          "execution_count": 69
        }
      ]
    },
    {
      "cell_type": "markdown",
      "source": [
        "Para usar valor númerico de la posición de la fila y el nombre de la columna usamos **loc**"
      ],
      "metadata": {
        "id": "LfUIO0r0H5-R"
      }
    },
    {
      "cell_type": "code",
      "source": [
        "df.loc[0,\"longitude\"] #primera fila y columna \"longitude\""
      ],
      "metadata": {
        "id": "WiSPaRWSHiqF",
        "outputId": "eb050cc4-227f-4c6b-8ffe-bf75be1172da",
        "colab": {
          "base_uri": "https://localhost:8080/"
        }
      },
      "execution_count": 73,
      "outputs": [
        {
          "output_type": "execute_result",
          "data": {
            "text/plain": [
              "-122.05"
            ]
          },
          "metadata": {},
          "execution_count": 73
        }
      ]
    },
    {
      "cell_type": "code",
      "source": [
        "df.loc[1,\"longitude\"] #segunda fila y columna \"longitude\""
      ],
      "metadata": {
        "id": "X8kdPDYqH1Mp",
        "outputId": "f88adcc1-2e14-48bf-ad17-9783f8489299",
        "colab": {
          "base_uri": "https://localhost:8080/"
        }
      },
      "execution_count": 75,
      "outputs": [
        {
          "output_type": "execute_result",
          "data": {
            "text/plain": [
              "-118.3"
            ]
          },
          "metadata": {},
          "execution_count": 75
        }
      ]
    },
    {
      "cell_type": "code",
      "source": [
        "df.loc[0,\"latitude\"] #primera fila y columna \"latitude\""
      ],
      "metadata": {
        "id": "yCaBmH1QIOQr",
        "outputId": "c40ad2fc-79cd-40e6-e104-f6c96d26cca0",
        "colab": {
          "base_uri": "https://localhost:8080/"
        }
      },
      "execution_count": 76,
      "outputs": [
        {
          "output_type": "execute_result",
          "data": {
            "text/plain": [
              "37.37"
            ]
          },
          "metadata": {},
          "execution_count": 76
        }
      ]
    },
    {
      "cell_type": "code",
      "source": [
        "df.loc[1,\"latitude\"] #segunda fila y columna \"latitude\""
      ],
      "metadata": {
        "id": "6eDW9rMmIfMu",
        "outputId": "cd4ddbad-1c1f-4bee-fcf3-caff1b569fbf",
        "colab": {
          "base_uri": "https://localhost:8080/"
        }
      },
      "execution_count": 77,
      "outputs": [
        {
          "output_type": "execute_result",
          "data": {
            "text/plain": [
              "34.26"
            ]
          },
          "metadata": {},
          "execution_count": 77
        }
      ]
    },
    {
      "cell_type": "markdown",
      "source": [
        "También se puede recortar un dataframe y asignar los valores a un nuevo dataframe"
      ],
      "metadata": {
        "id": "v8sYx6-fIw90"
      }
    },
    {
      "cell_type": "code",
      "source": [
        "z=df.iloc[0:2,0:3] #desde la primera fila hasta la segunda y desde la primer columna a la tercera\n",
        "print(z)"
      ],
      "metadata": {
        "id": "deD_5z5nI4LL",
        "outputId": "daa600fd-e22d-48df-dc6b-cd9932913688",
        "colab": {
          "base_uri": "https://localhost:8080/"
        }
      },
      "execution_count": 80,
      "outputs": [
        {
          "output_type": "stream",
          "name": "stdout",
          "text": [
            "   longitude  latitude  housing_median_age\n",
            "0    -122.05     37.37                  27\n",
            "1    -118.30     34.26                  43\n"
          ]
        }
      ]
    },
    {
      "cell_type": "markdown",
      "source": [
        "Por último se puede seleccionar también el nombre de las columnas"
      ],
      "metadata": {
        "id": "kE41g-xTJcOX"
      }
    },
    {
      "cell_type": "code",
      "source": [
        "z=df.loc[0:2,\"longitude\":\"latitude\"] # desde la primera fila hasta la segunda, desde la columna longitud hasta la latitud\n",
        "print(z)"
      ],
      "metadata": {
        "id": "ToVPxLu9JFWE",
        "outputId": "7e647399-0b49-4bcf-dd25-3400ba74a9ae",
        "colab": {
          "base_uri": "https://localhost:8080/"
        }
      },
      "execution_count": 83,
      "outputs": [
        {
          "output_type": "stream",
          "name": "stdout",
          "text": [
            "   longitude  latitude\n",
            "0    -122.05     37.37\n",
            "1    -118.30     34.26\n",
            "2    -117.81     33.78\n"
          ]
        }
      ]
    },
    {
      "cell_type": "code",
      "source": [
        "import pandas as banana\n",
        "\n",
        "df=banana.DataFrame({'a':[11,21,31],'b':[21,22,23]})\n",
        "\n",
        "df.head()"
      ],
      "metadata": {
        "id": "NGmYXAclJt9z",
        "outputId": "6971ff31-aec0-4115-9dc3-2d9ff96c1314",
        "colab": {
          "base_uri": "https://localhost:8080/",
          "height": 143
        }
      },
      "execution_count": 84,
      "outputs": [
        {
          "output_type": "execute_result",
          "data": {
            "text/plain": [
              "    a   b\n",
              "0  11  21\n",
              "1  21  22\n",
              "2  31  23"
            ],
            "text/html": [
              "\n",
              "  <div id=\"df-209ccb9c-8de2-4ac6-abec-e44350a1129b\">\n",
              "    <div class=\"colab-df-container\">\n",
              "      <div>\n",
              "<style scoped>\n",
              "    .dataframe tbody tr th:only-of-type {\n",
              "        vertical-align: middle;\n",
              "    }\n",
              "\n",
              "    .dataframe tbody tr th {\n",
              "        vertical-align: top;\n",
              "    }\n",
              "\n",
              "    .dataframe thead th {\n",
              "        text-align: right;\n",
              "    }\n",
              "</style>\n",
              "<table border=\"1\" class=\"dataframe\">\n",
              "  <thead>\n",
              "    <tr style=\"text-align: right;\">\n",
              "      <th></th>\n",
              "      <th>a</th>\n",
              "      <th>b</th>\n",
              "    </tr>\n",
              "  </thead>\n",
              "  <tbody>\n",
              "    <tr>\n",
              "      <th>0</th>\n",
              "      <td>11</td>\n",
              "      <td>21</td>\n",
              "    </tr>\n",
              "    <tr>\n",
              "      <th>1</th>\n",
              "      <td>21</td>\n",
              "      <td>22</td>\n",
              "    </tr>\n",
              "    <tr>\n",
              "      <th>2</th>\n",
              "      <td>31</td>\n",
              "      <td>23</td>\n",
              "    </tr>\n",
              "  </tbody>\n",
              "</table>\n",
              "</div>\n",
              "      <button class=\"colab-df-convert\" onclick=\"convertToInteractive('df-209ccb9c-8de2-4ac6-abec-e44350a1129b')\"\n",
              "              title=\"Convert this dataframe to an interactive table.\"\n",
              "              style=\"display:none;\">\n",
              "        \n",
              "  <svg xmlns=\"http://www.w3.org/2000/svg\" height=\"24px\"viewBox=\"0 0 24 24\"\n",
              "       width=\"24px\">\n",
              "    <path d=\"M0 0h24v24H0V0z\" fill=\"none\"/>\n",
              "    <path d=\"M18.56 5.44l.94 2.06.94-2.06 2.06-.94-2.06-.94-.94-2.06-.94 2.06-2.06.94zm-11 1L8.5 8.5l.94-2.06 2.06-.94-2.06-.94L8.5 2.5l-.94 2.06-2.06.94zm10 10l.94 2.06.94-2.06 2.06-.94-2.06-.94-.94-2.06-.94 2.06-2.06.94z\"/><path d=\"M17.41 7.96l-1.37-1.37c-.4-.4-.92-.59-1.43-.59-.52 0-1.04.2-1.43.59L10.3 9.45l-7.72 7.72c-.78.78-.78 2.05 0 2.83L4 21.41c.39.39.9.59 1.41.59.51 0 1.02-.2 1.41-.59l7.78-7.78 2.81-2.81c.8-.78.8-2.07 0-2.86zM5.41 20L4 18.59l7.72-7.72 1.47 1.35L5.41 20z\"/>\n",
              "  </svg>\n",
              "      </button>\n",
              "      \n",
              "  <style>\n",
              "    .colab-df-container {\n",
              "      display:flex;\n",
              "      flex-wrap:wrap;\n",
              "      gap: 12px;\n",
              "    }\n",
              "\n",
              "    .colab-df-convert {\n",
              "      background-color: #E8F0FE;\n",
              "      border: none;\n",
              "      border-radius: 50%;\n",
              "      cursor: pointer;\n",
              "      display: none;\n",
              "      fill: #1967D2;\n",
              "      height: 32px;\n",
              "      padding: 0 0 0 0;\n",
              "      width: 32px;\n",
              "    }\n",
              "\n",
              "    .colab-df-convert:hover {\n",
              "      background-color: #E2EBFA;\n",
              "      box-shadow: 0px 1px 2px rgba(60, 64, 67, 0.3), 0px 1px 3px 1px rgba(60, 64, 67, 0.15);\n",
              "      fill: #174EA6;\n",
              "    }\n",
              "\n",
              "    [theme=dark] .colab-df-convert {\n",
              "      background-color: #3B4455;\n",
              "      fill: #D2E3FC;\n",
              "    }\n",
              "\n",
              "    [theme=dark] .colab-df-convert:hover {\n",
              "      background-color: #434B5C;\n",
              "      box-shadow: 0px 1px 3px 1px rgba(0, 0, 0, 0.15);\n",
              "      filter: drop-shadow(0px 1px 2px rgba(0, 0, 0, 0.3));\n",
              "      fill: #FFFFFF;\n",
              "    }\n",
              "  </style>\n",
              "\n",
              "      <script>\n",
              "        const buttonEl =\n",
              "          document.querySelector('#df-209ccb9c-8de2-4ac6-abec-e44350a1129b button.colab-df-convert');\n",
              "        buttonEl.style.display =\n",
              "          google.colab.kernel.accessAllowed ? 'block' : 'none';\n",
              "\n",
              "        async function convertToInteractive(key) {\n",
              "          const element = document.querySelector('#df-209ccb9c-8de2-4ac6-abec-e44350a1129b');\n",
              "          const dataTable =\n",
              "            await google.colab.kernel.invokeFunction('convertToInteractive',\n",
              "                                                     [key], {});\n",
              "          if (!dataTable) return;\n",
              "\n",
              "          const docLinkHtml = 'Like what you see? Visit the ' +\n",
              "            '<a target=\"_blank\" href=https://colab.research.google.com/notebooks/data_table.ipynb>data table notebook</a>'\n",
              "            + ' to learn more about interactive tables.';\n",
              "          element.innerHTML = '';\n",
              "          dataTable['output_type'] = 'display_data';\n",
              "          await google.colab.output.renderOutput(dataTable, element);\n",
              "          const docLink = document.createElement('div');\n",
              "          docLink.innerHTML = docLinkHtml;\n",
              "          element.appendChild(docLink);\n",
              "        }\n",
              "      </script>\n",
              "    </div>\n",
              "  </div>\n",
              "  "
            ]
          },
          "metadata": {},
          "execution_count": 84
        }
      ]
    }
  ]
}