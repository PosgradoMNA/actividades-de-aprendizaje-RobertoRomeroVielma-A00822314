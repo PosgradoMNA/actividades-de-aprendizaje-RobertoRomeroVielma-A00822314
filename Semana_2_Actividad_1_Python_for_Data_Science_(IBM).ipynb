{
  "nbformat": 4,
  "nbformat_minor": 0,
  "metadata": {
    "colab": {
      "provenance": [],
      "authorship_tag": "ABX9TyNGgB2Ojfvr1TGeXLtrNVRJ",
      "include_colab_link": true
    },
    "kernelspec": {
      "name": "python3",
      "display_name": "Python 3"
    },
    "language_info": {
      "name": "python"
    }
  },
  "cells": [
    {
      "cell_type": "markdown",
      "metadata": {
        "id": "view-in-github",
        "colab_type": "text"
      },
      "source": [
        "<a href=\"https://colab.research.google.com/github/PosgradoMNA/actividades-de-aprendizaje-RobertoRomeroVielma-A00822314/blob/main/Semana_2_Actividad_1_Python_for_Data_Science_(IBM).ipynb\" target=\"_parent\"><img src=\"https://colab.research.google.com/assets/colab-badge.svg\" alt=\"Open In Colab\"/></a>"
      ]
    },
    {
      "cell_type": "markdown",
      "source": [
        "* Nombre del alumno: Roberto Romero Vielma\n",
        "* Matrícula: A00822314"
      ],
      "metadata": {
        "id": "pdvC9hlJ6Kwp"
      }
    },
    {
      "cell_type": "markdown",
      "source": [
        "# Módulo 4"
      ],
      "metadata": {
        "id": "PDoFt3kF1vXG"
      }
    },
    {
      "cell_type": "markdown",
      "source": [
        "## Reading files with open\n",
        "El archivo es un objecto del cual podemos sacar sus propiedades"
      ],
      "metadata": {
        "id": "x5SeBWT510YB"
      }
    },
    {
      "cell_type": "markdown",
      "source": [
        "**Traemos la raw data para usarla localmente**"
      ],
      "metadata": {
        "id": "AoH4glW4tJg9"
      }
    },
    {
      "cell_type": "code",
      "source": [
        "import urllib.request\n",
        "url=\"https://cf-courses-data.s3.us.cloud-object-storage.appdomain.cloud/IBMDeveloperSkillsNetwork-PY0101EN-SkillsNetwork/labs/Module%204/data/example1.txt\"\n",
        "filename=\"Example1.txt\"\n",
        "urllib.request.urlretrieve(url,filename)"
      ],
      "metadata": {
        "colab": {
          "base_uri": "https://localhost:8080/"
        },
        "id": "5qW8a0Uv3S1X",
        "outputId": "b9a0b10f-0ba6-4202-87de-121944e856e5"
      },
      "execution_count": 1,
      "outputs": [
        {
          "output_type": "execute_result",
          "data": {
            "text/plain": [
              "('Example1.txt', <http.client.HTTPMessage at 0x7f05d2b27ed0>)"
            ]
          },
          "metadata": {},
          "execution_count": 1
        }
      ]
    },
    {
      "cell_type": "markdown",
      "source": [
        "* w = write o escribir\n",
        "* r= read o leer\n",
        "* a= append o anexar"
      ],
      "metadata": {
        "id": "XdhD5si53oQE"
      }
    },
    {
      "cell_type": "code",
      "execution_count": 18,
      "metadata": {
        "id": "QoEazPEb0-ZM"
      },
      "outputs": [],
      "source": [
        "File1=open(\"Example1.txt\",\"r\") "
      ]
    },
    {
      "cell_type": "markdown",
      "source": [
        "open es la función, el primer argumento es el nombre y la ruta del archivo, el segundo es el modo (w, r, a)"
      ],
      "metadata": {
        "id": "0lebf9G135Es"
      }
    },
    {
      "cell_type": "code",
      "source": [
        "File1.mode #muestra el modo"
      ],
      "metadata": {
        "colab": {
          "base_uri": "https://localhost:8080/",
          "height": 36
        },
        "id": "KiAZUlcl2Or4",
        "outputId": "c04fbb66-46d1-431d-b7f6-f9e46008c8bd"
      },
      "execution_count": 19,
      "outputs": [
        {
          "output_type": "execute_result",
          "data": {
            "text/plain": [
              "'r'"
            ],
            "application/vnd.google.colaboratory.intrinsic+json": {
              "type": "string"
            }
          },
          "metadata": {},
          "execution_count": 19
        }
      ]
    },
    {
      "cell_type": "code",
      "source": [
        "File1.name #muestra el nombre del archivo"
      ],
      "metadata": {
        "colab": {
          "base_uri": "https://localhost:8080/",
          "height": 36
        },
        "id": "BUPukyZ54p46",
        "outputId": "64cfad0b-7683-445f-f303-12daa7a64781"
      },
      "execution_count": 20,
      "outputs": [
        {
          "output_type": "execute_result",
          "data": {
            "text/plain": [
              "'Example1.txt'"
            ],
            "application/vnd.google.colaboratory.intrinsic+json": {
              "type": "string"
            }
          },
          "metadata": {},
          "execution_count": 20
        }
      ]
    },
    {
      "cell_type": "markdown",
      "source": [
        "Podemos leer el archivo y lo asignamos a una variable"
      ],
      "metadata": {
        "id": "RIztxfYBsv_q"
      }
    },
    {
      "cell_type": "code",
      "source": [
        "FileContent=File1.read()\n",
        "FileContent"
      ],
      "metadata": {
        "colab": {
          "base_uri": "https://localhost:8080/",
          "height": 36
        },
        "id": "RD6Js8k0saej",
        "outputId": "63644a37-35d6-4ba4-ba6d-11a8fe289633"
      },
      "execution_count": 21,
      "outputs": [
        {
          "output_type": "execute_result",
          "data": {
            "text/plain": [
              "'This is line 1 \\nThis is line 2\\nThis is line 3'"
            ],
            "application/vnd.google.colaboratory.intrinsic+json": {
              "type": "string"
            }
          },
          "metadata": {},
          "execution_count": 21
        }
      ]
    },
    {
      "cell_type": "code",
      "source": [
        "File1.close()"
      ],
      "metadata": {
        "id": "E2P4Toyk4vVC"
      },
      "execution_count": 22,
      "outputs": []
    },
    {
      "cell_type": "markdown",
      "source": [
        "close () es para cerrar el documento, para que no sea tedioso estar cerrando el archivo cada vez, podemos usar una declarar **with** para cerrarlo en automático"
      ],
      "metadata": {
        "id": "qjl4Ma3j5Yu0"
      }
    },
    {
      "cell_type": "code",
      "source": [
        "with open(\"Example1.txt\",\"r\") as File1: #File object =File1\n",
        "\n",
        "  file_stuff=File1.read() #el método read guarda los valores del archivo en la variable file_stuff como un string\n",
        "\n",
        "  print(file_stuff) #antes del True\n",
        "\n",
        "print(File1.closed)\n",
        "print(file_stuff) #Después del True"
      ],
      "metadata": {
        "colab": {
          "base_uri": "https://localhost:8080/"
        },
        "id": "7QdUY-Cc5gGw",
        "outputId": "fce72a22-d791-45b1-a493-3712c3f28c78"
      },
      "execution_count": 6,
      "outputs": [
        {
          "output_type": "stream",
          "name": "stdout",
          "text": [
            "This is line 1 \n",
            "This is line 2\n",
            "This is line 3\n",
            "True\n",
            "This is line 1 \n",
            "This is line 2\n",
            "This is line 3\n"
          ]
        }
      ]
    },
    {
      "cell_type": "markdown",
      "source": [
        "Podemos imprimir la variable file_stuff para ver su contenido"
      ],
      "metadata": {
        "id": "S5eHHgc5-edh"
      }
    },
    {
      "cell_type": "code",
      "source": [
        "print(file_stuff) "
      ],
      "metadata": {
        "colab": {
          "base_uri": "https://localhost:8080/"
        },
        "id": "a4lgM3W7-OFg",
        "outputId": "3112c308-3394-42d1-e2f6-4d323c9a0020"
      },
      "execution_count": 7,
      "outputs": [
        {
          "output_type": "stream",
          "name": "stdout",
          "text": [
            "This is line 1 \n",
            "This is line 2\n",
            "This is line 3\n"
          ]
        }
      ]
    },
    {
      "cell_type": "code",
      "source": [
        "file_stuff #si solo llamamos la variable obtenemos el raw string"
      ],
      "metadata": {
        "colab": {
          "base_uri": "https://localhost:8080/",
          "height": 36
        },
        "id": "CpQ5Csyr6jGL",
        "outputId": "34629e71-7c5e-4e8b-b1de-680502b886ac"
      },
      "execution_count": 8,
      "outputs": [
        {
          "output_type": "execute_result",
          "data": {
            "text/plain": [
              "'This is line 1 \\nThis is line 2\\nThis is line 3'"
            ],
            "application/vnd.google.colaboratory.intrinsic+json": {
              "type": "string"
            }
          },
          "metadata": {},
          "execution_count": 8
        }
      ]
    },
    {
      "cell_type": "markdown",
      "source": [
        "También podemos leer las lineas dentro del archivo"
      ],
      "metadata": {
        "id": "ixzrdXtB-0B9"
      }
    },
    {
      "cell_type": "code",
      "source": [
        "with open(\"Example1.txt\",\"r\") as File1:\n",
        "\n",
        "  file_stuff=File1.readlines() #esto nos muestra todas las lineas\n",
        "  print(file_stuff)"
      ],
      "metadata": {
        "colab": {
          "base_uri": "https://localhost:8080/"
        },
        "id": "NLeBYBVa7Qvj",
        "outputId": "25dcad81-7dfd-4ed8-afeb-906b1e0b3335"
      },
      "execution_count": 9,
      "outputs": [
        {
          "output_type": "stream",
          "name": "stdout",
          "text": [
            "['This is line 1 \\n', 'This is line 2\\n', 'This is line 3']\n"
          ]
        }
      ]
    },
    {
      "cell_type": "code",
      "source": [
        "\n",
        "with open(\"Example1.txt\",\"r\") as File1:\n",
        "\n",
        "  file_stuff=File1.readline() #esto nos muestra la primera linea\n",
        "  print(file_stuff)\n",
        "  file_stuff=File1.readline() #esto nos muestra la segunda linea\n",
        "  print(file_stuff)"
      ],
      "metadata": {
        "colab": {
          "base_uri": "https://localhost:8080/"
        },
        "id": "EC9wW7vt_PET",
        "outputId": "f5bd1127-541d-442b-e2aa-83d4c4939b36"
      },
      "execution_count": 10,
      "outputs": [
        {
          "output_type": "stream",
          "name": "stdout",
          "text": [
            "This is line 1 \n",
            "\n",
            "This is line 2\n",
            "\n"
          ]
        }
      ]
    },
    {
      "cell_type": "markdown",
      "source": [
        "Podemos mostrar todas las lineas dentro de un loop"
      ],
      "metadata": {
        "id": "CDsXUDIBAjYR"
      }
    },
    {
      "cell_type": "code",
      "source": [
        "with open(\"Example1.txt\",\"r\") as File1:\n",
        "  for line in File1:\n",
        "    print(line)"
      ],
      "metadata": {
        "colab": {
          "base_uri": "https://localhost:8080/"
        },
        "id": "FCvXHabcAOqg",
        "outputId": "a5725cb4-303f-43ea-9b91-88d0fc54d5b1"
      },
      "execution_count": 11,
      "outputs": [
        {
          "output_type": "stream",
          "name": "stdout",
          "text": [
            "This is line 1 \n",
            "\n",
            "This is line 2\n",
            "\n",
            "This is line 3\n"
          ]
        }
      ]
    },
    {
      "cell_type": "markdown",
      "source": [
        "Adicionalmente se puede mostrar solo una parte de cada línea asignandole un valor númerico dentro de readlines"
      ],
      "metadata": {
        "id": "7EgmE2biArXC"
      }
    },
    {
      "cell_type": "code",
      "source": [
        "with open(\"Example1.txt\",\"r\") as File1:\n",
        "\n",
        "  file_stuff=File1.readlines(4)\n",
        "  print(file_stuff)"
      ],
      "metadata": {
        "colab": {
          "base_uri": "https://localhost:8080/"
        },
        "id": "edOu44p3Afx7",
        "outputId": "bc701a94-f4ec-4f97-d59c-e6107074c4d7"
      },
      "execution_count": 12,
      "outputs": [
        {
          "output_type": "stream",
          "name": "stdout",
          "text": [
            "['This is line 1 \\n']\n"
          ]
        }
      ]
    },
    {
      "cell_type": "code",
      "source": [
        "with open(\"Example1.txt\",\"r\") as File1:\n",
        "\n",
        "  file_stuff=File1.read(16) #agarra las primeras 16 posiciones\n",
        "  print(file_stuff)\n",
        "  file_stuff=File1.read(5) #agarra las siguientes 5 posiciones\n",
        "  print(file_stuff)\n",
        "  file_stuff=File1.read(9) #agarra las siguientes 9 posiciones\n",
        "  print(file_stuff)"
      ],
      "metadata": {
        "colab": {
          "base_uri": "https://localhost:8080/"
        },
        "id": "6niRygZ0BSo9",
        "outputId": "74137ba5-75ab-47ed-bdf2-5b4a95adc450"
      },
      "execution_count": 16,
      "outputs": [
        {
          "output_type": "stream",
          "name": "stdout",
          "text": [
            "This is line 1 \n",
            "\n",
            "This \n",
            "is line 2\n"
          ]
        }
      ]
    }
  ]
}